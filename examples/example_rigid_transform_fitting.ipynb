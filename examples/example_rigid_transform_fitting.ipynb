{
 "cells": [
  {
   "cell_type": "code",
   "execution_count": 27,
   "id": "96b34224",
   "metadata": {},
   "outputs": [],
   "source": [
    "import numpy as np\n",
    "import matplotlib.pyplot as plt\n",
    "import torch\n",
    "import cv2\n",
    "import os\n",
    "import time\n",
    "import pysuperansac\n",
    "import sys\n",
    "import cv2\n",
    "import io\n",
    "import requests"
   ]
  },
  {
   "cell_type": "code",
   "execution_count": 28,
   "id": "7328d852",
   "metadata": {},
   "outputs": [],
   "source": [
    "# Loading example data\n",
    "correspondences = np.loadtxt('data/rigid_pose_example_points.txt')\n",
    "gt_pose = np.loadtxt('data/rigid_pose_example_gt.txt')\n",
    "ground_truth_T = gt_pose[:4, :]\n",
    "\n",
    "# Translating the points so there are no negative coordinates.\n",
    "# This is only important if the space partitioning technique is used to\n",
    "# accelerate the robust estimation, or when the spatial coherence term is >0.\n",
    "min_coordinates = np.min(correspondences, axis=0)\n",
    "T1 = np.array([[1,0,0,0], [0,1,0,0], [0,0,1,0], [-min_coordinates[0], -min_coordinates[1], -min_coordinates[2], 1]])\n",
    "T2inv = np.array([[1,0,0,0], [0,1,0,0], [0,0,1,0], [min_coordinates[3], min_coordinates[4], min_coordinates[5], 1]])\n",
    "transformed_correspondences = correspondences - min_coordinates"
   ]
  },
  {
   "cell_type": "code",
   "execution_count": 29,
   "id": "f62c1c93",
   "metadata": {},
   "outputs": [],
   "source": [
    "def run_superansac(matches, config):\n",
    "    # Run the fundamental matrix estimation implemented in SupeRANSAC\n",
    "    tic = time.perf_counter()\n",
    "    T, inliers, score, iterations = pysuperansac.estimateRigidTransform(\n",
    "        np.ascontiguousarray(matches), \n",
    "        np.max(matches, axis=0),\n",
    "        config = config)\n",
    "    toc = time.perf_counter()\n",
    "    elapsed_time = toc - tic\n",
    "    print (f'{len(inliers)} inliers found by SupeRANSAC in {elapsed_time:0.3f} seconds')\n",
    "\n",
    "    mask = np.zeros((matches.shape[0], 1), dtype=np.uint8)\n",
    "    mask[inliers] = 1\n",
    "\n",
    "    return T, mask\n",
    "\n",
    "def tranform_points(corrs, T):\n",
    "    n = len(corrs)\n",
    "    points1 = np.float32([corrs[i][0:3] for i in np.arange(n)]).reshape(-1,3)\n",
    "    points2 = np.float32([corrs[i][3:6] for i in np.arange(n)]).reshape(-1,3)\n",
    "    \n",
    "    transformed_corrs = np.zeros((corrs.shape[0], 6))\n",
    "\n",
    "    for i in range(n):\n",
    "        p1 = np.append(correspondences[i][:3], 1)\n",
    "        p2 = p1.dot(T)\n",
    "        transformed_corrs[i][:3] = p2[:3]\n",
    "        transformed_corrs[i][3:] = corrs[i][3:]\n",
    "    return transformed_corrs\n",
    "    \n",
    "\n",
    "def calculate_error(gt_pose, est_pose):\n",
    "    R2R1 = np.dot(gt_pose[:3, :3].T, est_pose[:3, :3])\n",
    "    cos_angle = max(-1.0, min(1.0, 0.5 * (R2R1.trace() - 1.0)))\n",
    "    \n",
    "    err_R = np.arccos(cos_angle) * 180.0 / np.pi\n",
    "    err_t = np.linalg.norm(gt_pose[:3, 3] - est_pose[:3, 3])\n",
    "    \n",
    "    return err_R, err_t"
   ]
  },
  {
   "cell_type": "code",
   "execution_count": null,
   "id": "0d661eca",
   "metadata": {},
   "outputs": [
    {
     "name": "stdout",
     "output_type": "stream",
     "text": [
      "3859 inliers found by SupeRANSAC in 0.201 seconds\n",
      "Rotation error =  1.858955597097899 °\n",
      "Translation error =  0.08333994088386605  cm\n"
     ]
    }
   ],
   "source": [
    "# Set up the configuration\n",
    "config = pysuperansac.RANSACSettings()\n",
    "config.inlier_threshold = 0.2\n",
    "config.min_iterations = 1000\n",
    "config.max_iterations = 1000\n",
    "config.confidence = 0.999\n",
    "config.sampler = pysuperansac.SamplerType.PROSAC\n",
    "config.scoring = pysuperansac.ScoringType.MAGSAC\n",
    "config.local_optimization = pysuperansac.LocalOptimizationType.NestedRANSAC\n",
    "config.final_optimization = pysuperansac.LocalOptimizationType.LSQ\n",
    "\n",
    "# Run OpenCV RANSAC \n",
    "T_sr, mask_sr = run_superansac(transformed_correspondences, config)\n",
    "\n",
    "if T_sr is None:\n",
    "    T_sr = np.eye(4)\n",
    "else:\n",
    "    T_sr = T1 @ T_sr @ T2inv\n",
    "    T_sr = T_sr.T\n",
    "    \n",
    "err_R, err_t = calculate_error(ground_truth_T, T_sr)\n",
    "\n",
    "print ('Rotation error = ', err_R, '°')\n",
    "print ('Translation error = ', err_t, ' cm')"
   ]
  }
 ],
 "metadata": {
  "kernelspec": {
   "display_name": "main",
   "language": "python",
   "name": "python3"
  },
  "language_info": {
   "codemirror_mode": {
    "name": "ipython",
    "version": 3
   },
   "file_extension": ".py",
   "mimetype": "text/x-python",
   "name": "python",
   "nbconvert_exporter": "python",
   "pygments_lexer": "ipython3",
   "version": "3.11.9"
  }
 },
 "nbformat": 4,
 "nbformat_minor": 5
}
